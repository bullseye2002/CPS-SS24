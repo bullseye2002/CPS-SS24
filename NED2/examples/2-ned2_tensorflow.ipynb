{
 "cells": [
  {
   "cell_type": "markdown",
   "id": "0cfc8ed6",
   "metadata": {},
   "source": [
    "<img src=\"res/th-logo.png\" width=\"100\" align=\"left\"/>\n",
    "<img src=\"res/th-bar.png\" width=\"800\" align=\"left\"/>"
   ]
  },
  {
   "cell_type": "markdown",
   "id": "008e3783",
   "metadata": {},
   "source": [
    "<h1 align=\"center\"> WPF Cyber-physische Systeme (CPS) </h1><br>\n",
    "<h2 align=\"center\"> Niryo NED2 </h2><br><br>\n",
    "\n",
    "<img src=\"res/Niryo_logo.png\" width=\"300\"/><br><br>\n",
    "<img src=\"res/titelbild.png\" width=\"500\"/><br><br><br>"
   ]
  },
  {
   "cell_type": "markdown",
   "id": "5cdd6c32",
   "metadata": {},
   "source": [
    "## Projekt 2: TensorFlow mit Niryo NED2\n",
    "\n",
    "<img src=\"res/tensorflow.png\" width=\"800\"/><br><br>\n",
    "\n",
    "**TensorFlow** ist ein umfangreiches KI-Framework, mithilfe dessen neuronale Netze trainiert werden können. Dazu braucht man eine Sammlung an Bildern eines bestimmten Objekts, die Trainingsdaten, aus denen das Aussehen eines bestimmten Objekts gelernt werden kann. Je mehr unterschiedliche Bilder eines Objekts zur Verfügung stehen, desto effektiver kann trainiert werden. Den Trainingsdaten werden sog. Labels zugeordnet, welche die Information enthalten, um welches Objekt es sich handelt (Supervised Learning).\n",
    "\n",
    "In dieser Aufgabe soll ein smarter Süßigkeitenspender implementiert werden, der auf Anforderung eine gewählte Sorte greift und ausgibt. Es existiert bereits ein vortrainiertes Beispiel inklusive gelabelten Trainingsdaten und einer GUI (s. Niryo Webseite). Im Laufe der Aufgabe werden Sie TensorFlow installieren (in der conda Umgebung ist Tensorflow bereits installiert), sodass Sie am Ende in der Lage sein werden, eigene Objekte anzulernen und den NED2 dazu veranlassen können, diese zu greifen und an einer bestimmten Stelle abzulegen. \n",
    "\n",
    "Kopieren Sie zunächst den Code von der Niryo Webseite in dieses Notebook und probieren Sie die GUI aus. Mit der GUI können Sie weitere Trainingsdaten sammeln, weitere Klassen erstellen (bspw. Merci Schokolade) und versuchen ebenfalls diese mit dem Niryo NED2 zu greifen."
   ]
  },
  {
   "cell_type": "markdown",
   "id": "d59c5632",
   "metadata": {},
   "source": [
    "#### Vorbereitungen: Import der Bibliotheken und Initialisierung des Roboters"
   ]
  },
  {
   "cell_type": "code",
   "execution_count": null,
   "id": "cc8d8c57",
   "metadata": {},
   "outputs": [],
   "source": [
    "# -- Ihr Code hier --"
   ]
  },
  {
   "cell_type": "markdown",
   "id": "35ae0d9b",
   "metadata": {},
   "source": [
    "#### Funktionen für die GUI"
   ]
  },
  {
   "cell_type": "code",
   "execution_count": null,
   "id": "e1344e0b",
   "metadata": {},
   "outputs": [],
   "source": [
    "# -- Ihr Code hier --"
   ]
  },
  {
   "cell_type": "markdown",
   "id": "3922d039",
   "metadata": {},
   "source": [
    "#### Die main Funktion - bzw. der Aufruf der GUI"
   ]
  },
  {
   "cell_type": "code",
   "execution_count": 1,
   "id": "c836b2d0",
   "metadata": {},
   "outputs": [],
   "source": [
    "# -- Ihr Code hier --"
   ]
  },
  {
   "cell_type": "markdown",
   "id": "246ee8a5",
   "metadata": {},
   "source": [
    "#### Ausblick\n",
    "Der NED2 kann nun Objekte aus dem Workspace erkennen, greifen und platzieren, die zuvor durch ein neuronales Netz mithilfe von TensorFlow und Keras gelernt wurden. Allerdings nur dann, wenn diese möglichst nebeneinander positioniert im Workspace liegen. In der nächsten Aufgabe (in einem zukünftigen Semester oder evtl. als Idee für Ihr Projekt) wird ein Verfahren implementiert, das mithilfe automatisierter Bildverarbeitung in der Lage ist, auch übereinander liegende Objekte zu erkennen."
   ]
  },
  {
   "cell_type": "code",
   "execution_count": null,
   "id": "03481a60",
   "metadata": {},
   "outputs": [],
   "source": []
  }
 ],
 "metadata": {
  "kernelspec": {
   "display_name": "Python 3 (ipykernel)",
   "language": "python",
   "name": "python3"
  },
  "language_info": {
   "codemirror_mode": {
    "name": "ipython",
    "version": 3
   },
   "file_extension": ".py",
   "mimetype": "text/x-python",
   "name": "python",
   "nbconvert_exporter": "python",
   "pygments_lexer": "ipython3",
   "version": "3.8.16"
  }
 },
 "nbformat": 4,
 "nbformat_minor": 5
}
